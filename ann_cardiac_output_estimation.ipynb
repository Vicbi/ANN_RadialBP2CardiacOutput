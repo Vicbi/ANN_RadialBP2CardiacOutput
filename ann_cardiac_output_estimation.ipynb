{
 "cells": [
  {
   "cell_type": "code",
   "execution_count": null,
   "metadata": {},
   "outputs": [],
   "source": [
    "import pandas as pd\n",
    "import numpy as np\n",
    "import matplotlib.pyplot as plt\n",
    "from scipy.interpolate import interp1d\n",
    "import pickle\n",
    "\n",
    "from Utilities.utils import *\n",
    "from Utilities.plot_functions import *"
   ]
  },
  {
   "cell_type": "markdown",
   "metadata": {},
   "source": [
    "# Define Experiment Parameters"
   ]
  },
  {
   "cell_type": "code",
   "execution_count": null,
   "metadata": {},
   "outputs": [],
   "source": [
    "# Set cardiac out (CO) as the prediction variable\n",
    "prediction_variable = 'CO'\n",
    "variable_unit = 'L/min'\n",
    "input_set = 'radial' \n",
    "\n",
    "# Define the prediction model\n",
    "model_selection = 'ANN'\n",
    "\n",
    "# Enable normalization \n",
    "norm_mode = False \n",
    "\n",
    "# Enable noise addition and select random noise range\n",
    "noise_mode = False\n",
    "noise_perc_lower = 5\n",
    "noise_perc_upper = 5\n",
    "\n",
    "# Enable figure saving\n",
    "save_figure_boolean = False \n",
    "experiment_type = 'Data/insilico_{}_{}_{}'.format(input_set,norm_mode, noise_mode)    # Set the type of data being used in the analysis"
   ]
  },
  {
   "cell_type": "markdown",
   "metadata": {},
   "source": [
    "# Load & Prepare Data"
   ]
  },
  {
   "cell_type": "code",
   "execution_count": null,
   "metadata": {},
   "outputs": [],
   "source": [
    "dataset = select_input_dataset(norm_mode)\n",
    "print('The dataset size is:',dataset.shape)\n",
    "\n",
    "noisy_dataset = add_random_noise(dataset, noise_perc_lower, noise_perc_upper, noise_mode)\n",
    "scaled_dataset = scale_data(noisy_dataset)\n",
    "# print(scaled_dataset.isnull().values.any())"
   ]
  },
  {
   "cell_type": "markdown",
   "metadata": {},
   "source": [
    "# Regression analysis"
   ]
  },
  {
   "cell_type": "code",
   "execution_count": null,
   "metadata": {},
   "outputs": [],
   "source": [
    "# get_and_save_train_test_val_indices(scaled_dataset,select_test_size = 0.2,select_val_rel_size = 0.25) # only the first time\n",
    "\n",
    "X_train,X_test,X_val,y_train,y_test,y_val = split_train_test_val_sets(scaled_dataset)\n",
    "print('The size of the train set is:', X_train.shape)\n",
    "print('The size of the validation set is:', X_val.shape)\n",
    "print('The size of the test set is:', X_test.shape)"
   ]
  },
  {
   "cell_type": "markdown",
   "metadata": {},
   "source": [
    "### Find Optimal Number of Epochs using Early Stopping Callback"
   ]
  },
  {
   "cell_type": "code",
   "execution_count": null,
   "metadata": {},
   "outputs": [],
   "source": [
    "batch_size = 64; verbose = 0; \n",
    "# optimal_no_epochs = find_optimal_no_epochs(batch_size,dataset,X_train,X_val,y_train,y_val,prediction_variable,verbose,norm_mode)\n",
    "\n",
    "# Alternatively, insert values manually\n",
    "optimal_no_epochs = 61"
   ]
  },
  {
   "cell_type": "code",
   "execution_count": null,
   "metadata": {},
   "outputs": [],
   "source": [
    "model, y_pred = artificial_neural_network(batch_size,optimal_no_epochs,X_train,X_test,y_train,y_test,0) \n",
    "\n",
    "rescaled_y_test = rescale_values(y_test, prediction_variable, dataset)\n",
    "rescaled_y_pred = rescale_values(y_pred, prediction_variable, dataset).flatten()\n"
   ]
  },
  {
   "cell_type": "markdown",
   "metadata": {},
   "source": [
    "### Print Results"
   ]
  },
  {
   "cell_type": "code",
   "execution_count": null,
   "metadata": {},
   "outputs": [],
   "source": [
    "print_results(rescaled_y_test,rescaled_y_pred,variable_unit)"
   ]
  },
  {
   "cell_type": "markdown",
   "metadata": {},
   "source": [
    "### Plot Results"
   ]
  },
  {
   "cell_type": "code",
   "execution_count": null,
   "metadata": {},
   "outputs": [],
   "source": [
    "plot_data(rescaled_y_test,rescaled_y_pred,experiment_type,prediction_variable,model_selection,save_figure_boolean)"
   ]
  },
  {
   "cell_type": "markdown",
   "metadata": {},
   "source": [
    "# Run experiments using the saved models"
   ]
  },
  {
   "cell_type": "code",
   "execution_count": null,
   "metadata": {},
   "outputs": [],
   "source": [
    "# Load pre-developed models from disk\n",
    "if norm_mode:\n",
    "    loaded_model = pickle.load(open('TrainedModels/uncal_data_trained_model.sav', 'rb'))\n",
    "else:\n",
    "    loaded_model = pickle.load(open('TrainedModels/cal_data_trained_model.sav', 'rb'))\n",
    "        \n",
    "loaded_model.fit(X_test, y_test)\n",
    "y_pred = loaded_model.predict(X_test)\n",
    "\n",
    "rescaled_y_test = rescale_values(y_test, prediction_variable, dataset)\n",
    "rescaled_y_pred = rescale_values(y_pred, prediction_variable, dataset).flatten()\n",
    "    \n",
    "print_results(rescaled_y_test,rescaled_y_pred,variable_unit)"
   ]
  }
 ],
 "metadata": {
  "kernelspec": {
   "display_name": "Python 3 (ipykernel)",
   "language": "python",
   "name": "python3"
  },
  "language_info": {
   "codemirror_mode": {
    "name": "ipython",
    "version": 3
   },
   "file_extension": ".py",
   "mimetype": "text/x-python",
   "name": "python",
   "nbconvert_exporter": "python",
   "pygments_lexer": "ipython3",
   "version": "3.7.16"
  }
 },
 "nbformat": 4,
 "nbformat_minor": 4
}
